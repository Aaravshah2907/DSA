{
 "cells": [
  {
   "metadata": {},
   "cell_type": "markdown",
   "source": "# Basic Mathematics",
   "id": "5c10e6612194eeb4"
  },
  {
   "metadata": {},
   "cell_type": "markdown",
   "source": "### Adding all requirements & Input Statements",
   "id": "a74ed0e8404742de"
  },
  {
   "metadata": {
    "ExecuteTime": {
     "end_time": "2025-08-15T11:05:59.224736Z",
     "start_time": "2025-08-15T11:05:59.222126Z"
    }
   },
   "cell_type": "code",
   "source": "from math import log10, sqrt",
   "id": "9699eae4c2f42f81",
   "outputs": [],
   "execution_count": 21
  },
  {
   "metadata": {
    "ExecuteTime": {
     "end_time": "2025-08-15T10:58:53.496307Z",
     "start_time": "2025-08-15T10:58:41.628874Z"
    }
   },
   "cell_type": "code",
   "source": [
    "n = int(input(\"Enter a number: \"))\n",
    "a = int(input(\"Enter a number: \"))\n",
    "b = int(input(\"Enter a number: \"))"
   ],
   "id": "18cfd82cbd841b64",
   "outputs": [],
   "execution_count": 15
  },
  {
   "metadata": {},
   "cell_type": "markdown",
   "source": "## 1. Count Digits in a Number",
   "id": "78758ada791ec1b1"
  },
  {
   "cell_type": "code",
   "id": "initial_id",
   "metadata": {
    "collapsed": true,
    "ExecuteTime": {
     "end_time": "2025-08-15T10:52:17.187654Z",
     "start_time": "2025-08-15T10:52:17.181738Z"
    }
   },
   "source": [
    "def countDigitsOfNumber(num: int) -> int:\n",
    "    count_digits_of_n = int(log10(abs(n))) + 1\n",
    "    return count_digits_of_n\n",
    "\n",
    "countDigitsOfNumber(num=n)"
   ],
   "outputs": [
    {
     "data": {
      "text/plain": [
       "3"
      ]
     },
     "execution_count": 10,
     "metadata": {},
     "output_type": "execute_result"
    }
   ],
   "execution_count": 10
  },
  {
   "metadata": {},
   "cell_type": "markdown",
   "source": "## 2. Reverse Digits of a number",
   "id": "5f1fbcc0c8b80b0c"
  },
  {
   "metadata": {
    "ExecuteTime": {
     "end_time": "2025-08-15T10:54:20.825750Z",
     "start_time": "2025-08-15T10:54:20.822569Z"
    }
   },
   "cell_type": "code",
   "source": [
    "def ReverseDigitsofNumber(num:int) -> int:\n",
    "    reverse_Number = 0\n",
    "    copy_of_number = n\n",
    "    while (copy_of_number > 0):\n",
    "        last_digit = copy_of_number % 10\n",
    "        reverse_Number = reverse_Number * 10 + last_digit\n",
    "        copy_of_number //= 10\n",
    "    return reverse_Number\n",
    "\n",
    "ReverseDigitsofNumber(n)"
   ],
   "id": "1b7571a1ba208c01",
   "outputs": [
    {
     "data": {
      "text/plain": [
       "651"
      ]
     },
     "execution_count": 12,
     "metadata": {},
     "output_type": "execute_result"
    }
   ],
   "execution_count": 12
  },
  {
   "metadata": {},
   "cell_type": "markdown",
   "source": "## 3. Check For Palindrome",
   "id": "82578710ccb15b8a"
  },
  {
   "metadata": {
    "ExecuteTime": {
     "end_time": "2025-08-15T10:55:14.306939Z",
     "start_time": "2025-08-15T10:55:14.303449Z"
    }
   },
   "cell_type": "code",
   "source": [
    "def checkPalindrome(num:int) -> bool:\n",
    "    reverseNumber = ReverseDigitsofNumber(num)\n",
    "    if reverseNumber == num: return True\n",
    "    return False\n",
    "\n",
    "checkPalindrome(n)"
   ],
   "id": "19820f365bb5d12c",
   "outputs": [
    {
     "data": {
      "text/plain": [
       "False"
      ]
     },
     "execution_count": 14,
     "metadata": {},
     "output_type": "execute_result"
    }
   ],
   "execution_count": 14
  },
  {
   "metadata": {},
   "cell_type": "markdown",
   "source": "## 4. Greatest Common Divisor",
   "id": "9ec83abc6a565582"
  },
  {
   "metadata": {
    "ExecuteTime": {
     "end_time": "2025-08-15T10:59:00.387242Z",
     "start_time": "2025-08-15T10:59:00.382338Z"
    }
   },
   "cell_type": "code",
   "source": [
    "def greatestCommonDivisor(firstNum:int, secondNum:int) -> int:\n",
    "    while firstNum > 0 and secondNum > 0:\n",
    "        if firstNum > secondNum:\n",
    "            firstNum = firstNum % secondNum\n",
    "        else:\n",
    "            secondNum = secondNum % firstNum\n",
    "    if firstNum:\n",
    "        return firstNum\n",
    "    return secondNum\n",
    "\n",
    "greatestCommonDivisor(a, b)"
   ],
   "id": "bda4f1a7fab8fb36",
   "outputs": [
    {
     "data": {
      "text/plain": [
       "4"
      ]
     },
     "execution_count": 16,
     "metadata": {},
     "output_type": "execute_result"
    }
   ],
   "execution_count": 16
  },
  {
   "metadata": {},
   "cell_type": "markdown",
   "source": "## 5. Armstrong Number",
   "id": "518ef6f3901019c9"
  },
  {
   "metadata": {
    "ExecuteTime": {
     "end_time": "2025-08-15T11:04:19.434085Z",
     "start_time": "2025-08-15T11:04:19.429246Z"
    }
   },
   "cell_type": "code",
   "source": [
    "# Num = sum of its digits to the power of number of digits\n",
    "def checkArmstrongNumber(num:int) -> bool:\n",
    "    count = countDigitsOfNumber(num)\n",
    "    duplicateNumber = num\n",
    "    sum = 0\n",
    "    while (num > 0):\n",
    "        digit = num%10\n",
    "        sum += digit ** count\n",
    "        num = num//10\n",
    "    if sum == duplicateNumber: return True\n",
    "    return False\n",
    "\n",
    "checkArmstrongNumber(153)"
   ],
   "id": "99f4e0bb943ea3e4",
   "outputs": [
    {
     "data": {
      "text/plain": [
       "True"
      ]
     },
     "execution_count": 19,
     "metadata": {},
     "output_type": "execute_result"
    }
   ],
   "execution_count": 19
  },
  {
   "metadata": {},
   "cell_type": "markdown",
   "source": "## 6. Divisors of a Given Number",
   "id": "d80d5d0a7e2ca0d4"
  },
  {
   "metadata": {
    "ExecuteTime": {
     "end_time": "2025-08-15T11:08:18.741198Z",
     "start_time": "2025-08-15T11:08:18.736303Z"
    }
   },
   "cell_type": "code",
   "source": [
    "def divisorsOfNumber(num:int) -> list:\n",
    "    divisors = []\n",
    "    sqrtNum = int(sqrt(num))\n",
    "    for number in range(1, sqrtNum + 1):\n",
    "        if num % number == 0:\n",
    "            divisors.append(number)\n",
    "            if number != num//number :\n",
    "                divisors.append(num//number)\n",
    "    return divisors\n",
    "\n",
    "divisorsOfNumber(36)"
   ],
   "id": "8c3d67bddfba64da",
   "outputs": [
    {
     "data": {
      "text/plain": [
       "[1, 36, 2, 18, 3, 12, 4, 9, 6]"
      ]
     },
     "execution_count": 24,
     "metadata": {},
     "output_type": "execute_result"
    }
   ],
   "execution_count": 24
  },
  {
   "metadata": {},
   "cell_type": "markdown",
   "source": "## 7. Prime Number",
   "id": "b69114f2e2c0ac21"
  },
  {
   "metadata": {
    "ExecuteTime": {
     "end_time": "2025-08-15T11:10:42.336983Z",
     "start_time": "2025-08-15T11:10:42.332636Z"
    }
   },
   "cell_type": "code",
   "source": [
    "def checkPrime(num:int) -> bool:\n",
    "    sqrtN = int(sqrt(num))\n",
    "    if num <= 1: return False\n",
    "    for number in range(2, sqrtN + 1):\n",
    "        if num%number == 0: return False\n",
    "    return True\n",
    "\n",
    "checkPrime(1)"
   ],
   "id": "f2fa628d1bc46a48",
   "outputs": [
    {
     "data": {
      "text/plain": [
       "False"
      ]
     },
     "execution_count": 29,
     "metadata": {},
     "output_type": "execute_result"
    }
   ],
   "execution_count": 29
  }
 ],
 "metadata": {
  "kernelspec": {
   "display_name": "Python 3",
   "language": "python",
   "name": "python3"
  },
  "language_info": {
   "codemirror_mode": {
    "name": "ipython",
    "version": 2
   },
   "file_extension": ".py",
   "mimetype": "text/x-python",
   "name": "python",
   "nbconvert_exporter": "python",
   "pygments_lexer": "ipython2",
   "version": "2.7.6"
  }
 },
 "nbformat": 4,
 "nbformat_minor": 5
}
