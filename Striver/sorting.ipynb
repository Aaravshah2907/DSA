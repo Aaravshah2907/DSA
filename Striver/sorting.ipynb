{
 "cells": [
  {
   "cell_type": "markdown",
   "metadata": {},
   "source": [
    "# Sorting Techniques"
   ]
  },
  {
   "metadata": {},
   "cell_type": "markdown",
   "source": "### Adding Requirements And Inputs"
  },
  {
   "metadata": {
    "ExecuteTime": {
     "end_time": "2025-08-15T11:12:07.012600Z",
     "start_time": "2025-08-15T11:12:07.010693Z"
    }
   },
   "cell_type": "code",
   "source": "# import",
   "outputs": [],
   "execution_count": 1
  },
  {
   "metadata": {
    "ExecuteTime": {
     "end_time": "2025-08-15T11:29:33.072162Z",
     "start_time": "2025-08-15T11:29:04.189286Z"
    }
   },
   "cell_type": "code",
   "source": [
    "size = 15\n",
    "array = []\n",
    "for x in range (size):\n",
    "    array.append(int(input(f\"Enter {x} index please\")))\n",
    "print(array)"
   ],
   "outputs": [
    {
     "name": "stdout",
     "output_type": "stream",
     "text": [
      "[6745245, 4545345, 45312, 422, 879, 78724, 45312, 14786, 786, 554, 867, 554, 45687, 4534, 524]\n"
     ]
    }
   ],
   "execution_count": 13
  },
  {
   "cell_type": "markdown",
   "metadata": {},
   "source": "## 1. Selection Sort"
  },
  {
   "metadata": {
    "ExecuteTime": {
     "end_time": "2025-08-15T11:33:07.041497Z",
     "start_time": "2025-08-15T11:33:07.036218Z"
    }
   },
   "cell_type": "code",
   "source": [
    "def SelectionSAort(arr:list)->list:\n",
    "    copy = arr[:]\n",
    "    sizeArray = len(copy)\n",
    "    for index1 in range(sizeArray):\n",
    "        min_index = index1\n",
    "        for index2 in range(index1+1, sizeArray):\n",
    "            if copy[index2] < copy[min_index]:\n",
    "                min_index = index2\n",
    "        #SwapLogic\n",
    "        copy[index1], copy[min_index] = copy[min_index], copy[index1]\n",
    "    return copy\n",
    "\n",
    "SelectionSAort(array)\n"
   ],
   "outputs": [
    {
     "data": {
      "text/plain": [
       "[422,\n",
       " 524,\n",
       " 554,\n",
       " 554,\n",
       " 786,\n",
       " 867,\n",
       " 879,\n",
       " 4534,\n",
       " 14786,\n",
       " 45312,\n",
       " 45312,\n",
       " 45687,\n",
       " 78724,\n",
       " 4545345,\n",
       " 6745245]"
      ]
     },
     "execution_count": 18,
     "metadata": {},
     "output_type": "execute_result"
    }
   ],
   "execution_count": 18
  },
  {
   "metadata": {},
   "cell_type": "markdown",
   "source": "## 4. Merge Sort"
  },
  {
   "metadata": {
    "ExecuteTime": {
     "end_time": "2025-08-15T11:30:11.044029Z",
     "start_time": "2025-08-15T11:30:11.035683Z"
    }
   },
   "cell_type": "code",
   "source": [
    "def merge(arr:list, left:int, right:int, mid:int)-> None:\n",
    "    num1 = mid - left + 1\n",
    "    num2 = right - mid\n",
    "    leftArray = [0] * num1\n",
    "    rightArray = [0] * num2\n",
    "    for index in range(num1):\n",
    "        leftArray[index] = arr[left + index]\n",
    "    for index in range(num2):\n",
    "        rightArray[index] = arr[mid + 1 + index]\n",
    "    index1 = 0\n",
    "    index2 = 0\n",
    "    index3 = left\n",
    "\n",
    "    while index1 < num1 and index2 < num2:\n",
    "        if leftArray[index1] <= rightArray[index2]:\n",
    "            arr[index3] = leftArray[index1]\n",
    "            index1 += 1\n",
    "        else:\n",
    "            arr[index3] = rightArray[index2]\n",
    "            index2 += 1\n",
    "        index3 += 1\n",
    "    while index1 < num1:\n",
    "        arr[index3] = leftArray[index1]\n",
    "        index1 += 1\n",
    "        index3 += 1\n",
    "    while index2 < num2:\n",
    "        arr[index3] = rightArray[index2]\n",
    "        index2 += 1\n",
    "        index3 += 1\n",
    "\n",
    "def mergeSort(arr:list, left:int, right:int)-> None:\n",
    "    if left < right:\n",
    "        mid = (left + right) // 2\n",
    "        mergeSort(arr, left, mid)\n",
    "        mergeSort(arr, mid + 1, right)\n",
    "        merge(arr, left, right, mid)\n",
    "\n",
    "copy_array_merge = array[:]\n",
    "mergeSort(copy_array_merge, 0, len(array) - 1)\n",
    "print(copy_array_merge)"
   ],
   "outputs": [
    {
     "name": "stdout",
     "output_type": "stream",
     "text": [
      "[422, 524, 554, 554, 786, 867, 879, 4534, 14786, 45312, 45312, 45687, 78724, 4545345, 6745245]\n"
     ]
    }
   ],
   "execution_count": 15
  },
  {
   "metadata": {},
   "cell_type": "markdown",
   "source": "## 5. Quick Sort"
  },
  {
   "metadata": {
    "ExecuteTime": {
     "end_time": "2025-08-15T11:32:03.697149Z",
     "start_time": "2025-08-15T11:32:03.693485Z"
    }
   },
   "cell_type": "code",
   "source": [
    "def partition(arr:list, low:int, high:int)-> int:\n",
    "    pivot = arr[high]\n",
    "    i = low - 1\n",
    "    for j in range(low, high):\n",
    "        if arr[j] < pivot:\n",
    "            i += 1\n",
    "            arr[i], arr[j] = arr[j], arr[i]\n",
    "    arr[i + 1], arr[high] = arr[high], arr[i + 1]\n",
    "    return i + 1\n",
    "\n",
    "def QuickSort(arr:list, low:int, high:int)-> None:\n",
    "    if low < high:\n",
    "        pivot = partition(arr, low, high)\n",
    "        QuickSort(arr, low, pivot - 1)\n",
    "        QuickSort(arr, pivot + 1, high)\n",
    "\n",
    "copy_array_quick = array[:]\n",
    "QuickSort(copy_array_quick, 0, len(array) - 1)\n",
    "print(copy_array_quick)"
   ],
   "outputs": [
    {
     "name": "stdout",
     "output_type": "stream",
     "text": [
      "[422, 524, 554, 554, 786, 867, 879, 4534, 14786, 45312, 45312, 45687, 78724, 4545345, 6745245]\n"
     ]
    }
   ],
   "execution_count": 17
  }
 ],
 "metadata": {
  "language_info": {
   "name": "python"
  }
 },
 "nbformat": 4,
 "nbformat_minor": 2
}
