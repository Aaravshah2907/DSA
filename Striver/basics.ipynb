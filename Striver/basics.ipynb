{
 "cells": [
  {
   "cell_type": "markdown",
   "metadata": {},
   "source": [
    "# Basic Hashing "
   ]
  },
  {
   "cell_type": "markdown",
   "metadata": {},
   "source": [
    "#### 1. Hashing Theory"
   ]
  },
  {
   "cell_type": "code",
   "execution_count": 6,
   "metadata": {},
   "outputs": [],
   "source": [
    "# Pending Code"
   ]
  },
  {
   "cell_type": "markdown",
   "metadata": {},
   "source": [
    "#### 2. Count frequency of each element in the array"
   ]
  },
  {
   "cell_type": "markdown",
   "metadata": {},
   "source": [
    "##### Solution 1: Use of two loops\n",
    "\n",
    "Approach: \n",
    "\n",
    "- Make a visited array of type boolean.\n",
    "- Use the first loop to point to an element of the array.\n",
    "- Initialize the variable count to 1.\n",
    "- Make that index true in the visited array.\n",
    "- Run second loop, if we find the element then mark the visited index true and      increase the count.\n",
    "- If the visited index is already true then skip the other steps."
   ]
  },
  {
   "cell_type": "code",
   "execution_count": 9,
   "metadata": {},
   "outputs": [
    {
     "name": "stdout",
     "output_type": "stream",
     "text": [
      "10 3\n",
      "5 2\n",
      "15 1\n"
     ]
    }
   ],
   "source": [
    "def count_Frequency(arr, n):\n",
    "    visited = [False] * n\n",
    "    for i in range(n):\n",
    "        if (visited[i] == True):\n",
    "            continue\n",
    "        count = 1\n",
    "        for j in range(i + 1, n):\n",
    "            if (arr[i] == arr[j]):\n",
    "                visited[j] = True\n",
    "                count += 1\n",
    "        print(arr[i], count)\n",
    "\n",
    "if __name__ == '__main__':\n",
    "    arr = [10,5,10,15,10,5]\n",
    "    n = len(arr)\n",
    "    count_Frequency(arr, n)"
   ]
  },
  {
   "cell_type": "markdown",
   "metadata": {},
   "source": [
    "Time Complexity: O(N*N)\n",
    "\n",
    "Space Complexity:  O(N)"
   ]
  },
  {
   "cell_type": "markdown",
   "metadata": {},
   "source": [
    "##### Solution 2: Using Map\n",
    "\n",
    "Approach:\n",
    "\n",
    "- Take a unordered_map/HashMap of <Integer, Integer> pair.\n",
    "- Use a for loop to iterate the array.\n",
    "- If the element is not present in the map then insert it with frequency 1, otherwise increase the existing frequency by 1.\n",
    "- Print the value frequency pair."
   ]
  },
  {
   "cell_type": "code",
   "execution_count": null,
   "metadata": {},
   "outputs": [
    {
     "name": "stdout",
     "output_type": "stream",
     "text": [
      "10 3\n",
      "5 2\n",
      "15 1\n"
     ]
    }
   ],
   "source": [
    "def Frequency(arr, n):\n",
    "    mp = {}\n",
    "    for i in range(n):\n",
    "        if arr[i] in mp:\n",
    "            mp[arr[i]] += 1\n",
    "        else:\n",
    "            mp[arr[i]] = 1\n",
    "    for x in mp:\n",
    "        print(x, mp[x])\n",
    "\n",
    "\n",
    "if __name__ == '__main__':\n",
    "    arr = [10, 5, 10, 15, 10, 5]\n",
    "    n = len(arr)\n",
    "    Frequency(arr, n)"
   ]
  },
  {
   "cell_type": "markdown",
   "metadata": {},
   "source": [
    "Time Complexity: O(N)\n",
    "\n",
    "Space Complexity: O(n)"
   ]
  },
  {
   "cell_type": "markdown",
   "metadata": {},
   "source": [
    "#### 3. Find the highest/lowest frequency element"
   ]
  },
  {
   "cell_type": "markdown",
   "metadata": {},
   "source": [
    "##### Brute-Force approach(Using two loops): \n",
    "\n",
    "Approach: \n",
    "\n",
    "We will be using the same countFreq() function used in the previous article with slight modifications. We will use two loops, in which, the first loop will be used to iterate the given array. Selecting an element, we will use the second loop to traverse the remaining array to find the frequency(i.e. The number of times the element occurs in the array) of the selected element i.e. arr[i]. Now after the second loop completes traversing we will keep a track of the element with the highest and lowest frequency. We also have to maintain a visited array so that it will keep track of the duplicate elements that we already count.\n",
    "\n",
    "The steps are as follows:\n",
    "\n",
    "- Make a visited array of type boolean.\n",
    "- Use the first loop to point to an element of the array.\n",
    "- Initialize the variable count to 1.\n",
    "- Make that index true in the visited array.\n",
    "- Run the second loop, if we find the element then mark the visited index true and increase the count.\n",
    "- If the visited index is already true then skip the other steps.\n",
    "- After step 5, we will keep a track of the element with the highest frequency and the lowest frequency."
   ]
  },
  {
   "cell_type": "code",
   "execution_count": null,
   "metadata": {},
   "outputs": [],
   "source": [
    "# Code Pending"
   ]
  }
 ],
 "metadata": {
  "kernelspec": {
   "display_name": "venv",
   "language": "python",
   "name": "python3"
  },
  "language_info": {
   "codemirror_mode": {
    "name": "ipython",
    "version": 3
   },
   "file_extension": ".py",
   "mimetype": "text/x-python",
   "name": "python",
   "nbconvert_exporter": "python",
   "pygments_lexer": "ipython3",
   "version": "3.13.1"
  }
 },
 "nbformat": 4,
 "nbformat_minor": 2
}
